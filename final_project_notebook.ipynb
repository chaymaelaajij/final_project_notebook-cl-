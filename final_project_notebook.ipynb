{
 "cells": [
  {
   "cell_type": "code",
   "execution_count": 3,
   "id": "3724bf0e-9ed5-4f35-846f-98ec318d6e8e",
   "metadata": {},
   "outputs": [],
   "source": [
    "# Final Project — Jupyter Notebook"
   ]
  },
  {
   "cell_type": "markdown",
   "id": "31a16364-1e43-4663-9f71-d693cdae43a4",
   "metadata": {},
   "source": [
    "This notebook is my final project. It demonstrates basic markdown and simple Python code exercises to show familiarity with Jupyter Notebook features."
   ]
  },
  {
   "cell_type": "markdown",
   "id": "3780718b-d096-47e2-be95-e1a06244c2fa",
   "metadata": {},
   "source": [
    "**Data Science languages**\n",
    "- Python\n",
    "- R\n",
    "- SQL\n",
    "- Julia\n",
    "- Scala"
   ]
  },
  {
   "cell_type": "markdown",
   "id": "6633ee01-280f-4c67-abbd-d46ea41478c4",
   "metadata": {},
   "source": [
    "**Data Science libraries**\n",
    "- Pandas\n",
    "- NumPy\n",
    "- Matplotlib / Seaborn\n",
    "- Scikit-learn\n",
    "- TensorFlow / Keras\n",
    "- ggplot2 (R), dplyr (R)"
   ]
  },
  {
   "cell_type": "markdown",
   "id": "a4c2567a-06cb-4ba2-ab7a-8c7dbb1a6971",
   "metadata": {},
   "source": [
    "| Tool       | Purpose                             |\n",
    "|------------|-------------------------------------|\n",
    "| Jupyter    | Interactive notebooks               |\n",
    "| GitHub     | Version control/ sharing           |\n",
    "| RStudio    | R IDE                               |\n",
    "| Anaconda   | Python/R package & env manager      |\n",
    "| Visual Studio Code | Code editor with extensions |\n"
   ]
  },
  {
   "cell_type": "markdown",
   "id": "b2428035-c8f4-411c-b049-bb3d50760c77",
   "metadata": {},
   "source": [
    "Below are simple arithmetic expression examples and conversions in Python.\n"
   ]
  },
  {
   "cell_type": "code",
   "execution_count": 10,
   "id": "cb23e36c-4c97-45cc-bad2-2b53f44e5f23",
   "metadata": {},
   "outputs": [
    {
     "name": "stdout",
     "output_type": "stream",
     "text": [
      "3 * 4 + 5 = 17\n"
     ]
    }
   ],
   "source": [
    "# Exercise 8: multiply and add\n",
    "a = 3\n",
    "b = 4\n",
    "c = 5\n",
    "result = a * b + c\n",
    "print(f\"{a} * {b} + {c} = {result}\")\n"
   ]
  },
  {
   "cell_type": "markdown",
   "id": "a377b9ac-ed8e-46a3-aa72-d9f702eecbb1",
   "metadata": {},
   "source": [
    "**Objectives**\n",
    "- Learn to create and format markdown cells.\n",
    "- Run and save code outputs in a notebook.\n",
    "- Share the notebook publicly on GitHub for review.\n"
   ]
  },
  {
   "cell_type": "markdown",
   "id": "0f0cffc9-655d-4a0d-b41b-07f8073eb685",
   "metadata": {},
   "source": [
    "**Author:** Chaymae Laajij  \n"
   ]
  },
  {
   "cell_type": "code",
   "execution_count": null,
   "id": "9c91b3df-790d-485b-9453-c1c754944b5b",
   "metadata": {},
   "outputs": [],
   "source": []
  }
 ],
 "metadata": {
  "kernelspec": {
   "display_name": "Python 3 (ipykernel)",
   "language": "python",
   "name": "python3"
  },
  "language_info": {
   "codemirror_mode": {
    "name": "ipython",
    "version": 3
   },
   "file_extension": ".py",
   "mimetype": "text/x-python",
   "name": "python",
   "nbconvert_exporter": "python",
   "pygments_lexer": "ipython3",
   "version": "3.13.5"
  }
 },
 "nbformat": 4,
 "nbformat_minor": 5
}
